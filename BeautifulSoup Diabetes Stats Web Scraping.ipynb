{
 "cells": [
  {
   "cell_type": "markdown",
   "metadata": {},
   "source": [
    "# Web Scraping with BeautifulSoup\n",
    "\n",
    "\n",
    "## BeautifulSoup\n",
    "\n",
    "A Data Scientist or Analyst will at one point or another find themselves needing to scrape data off a website. \n",
    "\n",
    "[Beautiful Soup](https://www.crummy.com/software/BeautifulSoup/bs4/doc/) is a Python library for pulling data out of HTML and XML files. It creates a parse tree for parsed pages that can be used to extract data from HTML/XML, which is useful for web scraping.\n",
    "\n",
    "Here, we'll go through the typical workflow for extracting data from a html web page via the BeautifulSoup library in Python, and then converting it into a format more conducive to analysis. \n",
    "\n",
    "[This webpage](https://www.diabetes.org.uk/about_us/news_landing_page/uk-has-worlds-5th-highest-rate-of-type-1-diabetes-in-children/list-of-countries-by-incidence-of-type-1-diabetes-ages-0-to-14) with info on Diabetes occurrences by Country (per 100,000 individuals, for people under 15) will be scraped: \n",
    "\n",
    "## Introduction\n",
    "We'll start by importing the libraries we'll be using:"
   ]
  },
  {
   "cell_type": "code",
   "execution_count": 3,
   "metadata": {},
   "outputs": [],
   "source": [
    "import numpy as np\n",
    "import pandas as pd\n",
    "from bs4 import BeautifulSoup\n",
    "import requests"
   ]
  },
  {
   "cell_type": "markdown",
   "metadata": {},
   "source": [
    "We will use `requests.get(url).text` to ping the website and return the html.\n",
    "\n",
    "The `BeautifulSoup()` function will be used to turn the website's html into a BeautifulSoup object, using a html parser."
   ]
  },
  {
   "cell_type": "code",
   "execution_count": 4,
   "metadata": {},
   "outputs": [],
   "source": [
    "html = requests.get(\"https://www.diabetes.org.uk/about_us/news_landing_page/uk-has-worlds-5th-highest-rate-of-type-1-diabetes-in-children/list-of-countries-by-incidence-of-type-1-diabetes-ages-0-to-14\").text\n",
    "\n",
    "soup = BeautifulSoup(html, \"html.parser\")"
   ]
  },
  {
   "cell_type": "markdown",
   "metadata": {},
   "source": [
    "We'll use the `prettify()` function to see how the tags are nested in the webpage."
   ]
  },
  {
   "cell_type": "code",
   "execution_count": 5,
   "metadata": {},
   "outputs": [],
   "source": [
    "print(soup.prettify())\n",
    "\n",
    "# print not executed in notebook to limit file size."
   ]
  },
  {
   "cell_type": "markdown",
   "metadata": {},
   "source": [
    "We see that the table we want to extract information from is listed under `<div class=\"description\" itemprop=\"description\">`\n",
    "\n",
    "## Extracting the information\n",
    "\n",
    "Let's use the `soup.find()` function to isolate that table, by extracting **only the first** tag that meets our specified arguments. In contrast, `soup.findall()` extracts all tags that match the specified argument, although that will come later."
   ]
  },
  {
   "cell_type": "code",
   "execution_count": 6,
   "metadata": {},
   "outputs": [],
   "source": [
    "table = soup.find('div', {\"class\" : \"description\"})\n",
    "\n",
    "table\n",
    "\n",
    "# print not executed in notebook to limit file size."
   ]
  },
  {
   "cell_type": "markdown",
   "metadata": {},
   "source": [
    "Looking over the above code, we see that we have exactly the table we need. All that remains is to parse the above html code into a format suitable for Python to interpret. We will use the `soup.find_all()` function to extract **all information** within the `<th>` and `<td>` tags.\n",
    "\n",
    "It needs to be kept in mind that the `<th>` (header) and `<td>` (data) are nested within `<tr>` (row) tags. We will thus have to extract info from all the `<tr>` tags first.\n",
    "\n",
    "### Extracting Headers"
   ]
  },
  {
   "cell_type": "code",
   "execution_count": 7,
   "metadata": {},
   "outputs": [
    {
     "data": {
      "text/plain": [
       "[<th>Position</th>, <th>Country</th>, <th>Incidence<br/>\n",
       " \t\t\t(per 100,000)</th>]"
      ]
     },
     "execution_count": 7,
     "metadata": {},
     "output_type": "execute_result"
    }
   ],
   "source": [
    "header_row = [] # Initialize an empty list.\n",
    "\n",
    "\n",
    "for each_row in table.find_all('tr'): # Over each iteration of the loop, all <tr> tags are extracted.\n",
    "    \n",
    "    headers = each_row.find_all(\"th\") # From the <tr> tags, all <th> tags are then extracted.\n",
    "    \n",
    "    header_row.append(headers) # objects with <th> tags are appended to our list.\n",
    "    \n",
    "# At this point header_row resembles a list of lists. Only the first list within it is populated, as only one row has <th> tags\n",
    "# Let's see what the first element within it looks like:\n",
    "\n",
    "header_row[0]"
   ]
  },
  {
   "cell_type": "markdown",
   "metadata": {},
   "source": [
    "We see above that we successfully retrieved all the `<th>` tags, and because of the way the for loop is iterating over each row (the `for each_row in table.find_all('tr')` line of code ensures this, since each row is distinguished by the `<tr>` tag), each individual row is a separate list from all other rows. \n",
    "\n",
    "Now that we know what the objects we retrieved from the above code look like, we'll repeat the same code, but this time we'll extract just the text elements."
   ]
  },
  {
   "cell_type": "code",
   "execution_count": 8,
   "metadata": {},
   "outputs": [
    {
     "data": {
      "text/plain": [
       "[('Position', 'Country', 'Incidence\\n\\t\\t\\t(per 100,000)')]"
      ]
     },
     "execution_count": 8,
     "metadata": {},
     "output_type": "execute_result"
    }
   ],
   "source": [
    "header_row_text = [] \n",
    "\n",
    "\n",
    "for each_row in table.find_all('tr'):   \n",
    "    \n",
    "    headers = each_row.find_all(\"th\")\n",
    "    \n",
    "    # Try clause has to be used to avoid index error when iterating over rows without \"th\" tags.\n",
    "    try:\n",
    "        # From the headers list, all 3 elements are indexed, and only their text content is isolated.\n",
    "        header_row_text.append((headers[0].text, headers[1].text, headers[2].text))\n",
    "    except: \n",
    "        pass\n",
    "\n",
    "header_row_text"
   ]
  },
  {
   "cell_type": "markdown",
   "metadata": {},
   "source": [
    "### Extracting Rows\n",
    "\n",
    "We'll repeat the above process to isolate each the rest of the rows that aren't headers, i.e. the rows inside the `<td>` tags."
   ]
  },
  {
   "cell_type": "code",
   "execution_count": 9,
   "metadata": {},
   "outputs": [
    {
     "data": {
      "text/plain": [
       "[('1', 'Finland', '57.6'),\n",
       " ('2', 'Sweden', '43.1'),\n",
       " ('3', 'Saudi Arabia', '31.4'),\n",
       " ('4', 'Norway', '27.9'),\n",
       " ('5', 'United Kingdom', '24.5'),\n",
       " ('6', 'USA', '23.7'),\n",
       " ('7', 'Australia', '22.5'),\n",
       " ('8', 'Kuwait', '22.3'),\n",
       " ('9', 'Denmark', '22.2'),\n",
       " ('10', 'Canada', '21.7'),\n",
       " ('11', 'Netherlands', '18.6'),\n",
       " ('12', 'Germany', '18'),\n",
       " ('12', 'New Zealand', '18'),\n",
       " ('14', 'Poland', '17.3'),\n",
       " ('15', 'Czech Republic', '17.2'),\n",
       " ('16', 'Estonia', '17.1'),\n",
       " ('17', 'Puerto Rico', '16.8'),\n",
       " ('18', 'Ireland', '16.3'),\n",
       " ('18', 'Montenegro', '16.3'),\n",
       " ('20', 'Malta', '15.6'),\n",
       " ('21', 'Luxembourg', '15.5'),\n",
       " ('22', 'Belgium', '15.4'),\n",
       " ('23', 'Cyprus', '14.9'),\n",
       " ('24', 'Iceland', '14.7'),\n",
       " ('25', 'Slovakia', '13.6'),\n",
       " ('26', 'Austria', '13.3'),\n",
       " ('27', 'Portugal', '13.2'),\n",
       " ('28', 'Spain', '13'),\n",
       " ('29', 'Serbia', '12.9'),\n",
       " ('30', 'United States Virgin Islands', '12.8'),\n",
       " ('31', 'France', '12.2'),\n",
       " ('32', 'Italy', '12.1'),\n",
       " ('32', 'Russian Federation', '12.1'),\n",
       " ('34', 'Qatar', '11.4'),\n",
       " ('35', 'Hungary', '11.3'),\n",
       " ('36', 'Slovenia', '11.1'),\n",
       " ('37', 'Israel', '10.4'),\n",
       " ('37', 'Greece', '10.4'),\n",
       " ('39', 'Bahamas', '10.1'),\n",
       " ('39', 'Sudan', '10.1'),\n",
       " ('41', 'Bulgaria', '9.4'),\n",
       " ('42', 'Switzerland', '9.2'),\n",
       " ('43', 'Croatia', '9.1'),\n",
       " ('44', 'Libyan Arab Jamahiriya', '9'),\n",
       " ('45', 'Algeria', '8.6'),\n",
       " ('46', 'Uruguay', '8.3'),\n",
       " ('47', 'Ukraine', '8.1'),\n",
       " ('48', 'Egypt', '8'),\n",
       " ('49', 'Lithuania', '7.8'),\n",
       " ('50', 'Brazil', '7.7'),\n",
       " ('51', 'Latvia', '7.5'),\n",
       " ('52', 'Tunisia', '7.3'),\n",
       " ('53', 'Argentina', '6.8'),\n",
       " ('54', 'Chile', '6.6'),\n",
       " ('55', 'Dominica', '5.7'),\n",
       " ('56', 'Belarus', '5.6'),\n",
       " ('57', 'Romania', '5.4'),\n",
       " ('58', 'Georgia', '4.6'),\n",
       " ('59', 'India', '4.2'),\n",
       " ('60', 'Macedonia', '3.9'),\n",
       " ('61', 'Taiwan', '3.8'),\n",
       " ('62', 'Iran', '3.7'),\n",
       " ('63', 'Antigua and Barbuda', '3.5'),\n",
       " ('63', 'Bosnia and Herzegovina', '3.5'),\n",
       " ('65', 'Jordan', '3.2'),\n",
       " ('66', 'Nigeria', '2.9'),\n",
       " ('67', 'Oman', '2.5'),\n",
       " ('67', 'Singapore', '2.5'),\n",
       " ('69', 'Japan', '2.4'),\n",
       " ('70', 'Cuba', '2.3'),\n",
       " ('71', 'Barbados', '2'),\n",
       " ('71', 'China, Hong Kong SAR', '2'),\n",
       " ('73', 'Mexico', '1.5'),\n",
       " ('74', 'Mauritius', '1.4'),\n",
       " ('75', 'Colombia', '1.3'),\n",
       " ('76', 'Uzbekistan', '1.2'),\n",
       " ('76', 'Tajikistan', '1.2'),\n",
       " ('78', 'Republic of Korea', '1.1'),\n",
       " ('79', 'United Republic of Tanzania', '0.9'),\n",
       " ('79', 'Paraguay', '0.9'),\n",
       " ('81', 'Zambia', '0.8'),\n",
       " ('82', 'China', '0.6'),\n",
       " ('83', 'Dominican Republic', '0.5'),\n",
       " ('83', 'Pakistan', '0.5'),\n",
       " ('83', 'Peru', '0.5'),\n",
       " ('86', 'Ethiopia', '0.3'),\n",
       " ('86', 'Thailand', '0.3'),\n",
       " ('88', 'Papua New Guinea', '0.1'),\n",
       " ('88', 'Venezuala', '0.1')]"
      ]
     },
     "execution_count": 9,
     "metadata": {},
     "output_type": "execute_result"
    }
   ],
   "source": [
    "row_text = [] \n",
    "\n",
    "\n",
    "for each_row in table.find_all('tr'):   \n",
    "    \n",
    "    rows = each_row.find_all(\"td\")\n",
    "    \n",
    "    # Try clause has to be used to avoid index error when iterating over rows without \"th\" tags.\n",
    "    try:\n",
    "        # From the rows list, all 3 elements are indexed, and their text content is isolated.\n",
    "        row_text.append((rows[0].text, rows[1].text, rows[2].text))\n",
    "        \n",
    "        # Note the use of double brackets above when appending to pass in the tuple of 3 strings as a single argument!\n",
    "    except: \n",
    "        pass\n",
    "\n",
    "row_text"
   ]
  },
  {
   "cell_type": "markdown",
   "metadata": {},
   "source": [
    "To simplify things, we'll merge the contents of `header_row_text` and `row_text`."
   ]
  },
  {
   "cell_type": "code",
   "execution_count": 10,
   "metadata": {},
   "outputs": [],
   "source": [
    "for each in row_text:\n",
    "    header_row_text.append(each)"
   ]
  },
  {
   "cell_type": "markdown",
   "metadata": {},
   "source": [
    "## Converting to DataFrame\n",
    "\n",
    "With our resulting full list of tuples above, it looks like we are very near the final product. \n",
    "\n",
    "We'll just convert it into a DataFrame using the pandas library."
   ]
  },
  {
   "cell_type": "code",
   "execution_count": 11,
   "metadata": {},
   "outputs": [
    {
     "data": {
      "text/html": [
       "<div>\n",
       "<style scoped>\n",
       "    .dataframe tbody tr th:only-of-type {\n",
       "        vertical-align: middle;\n",
       "    }\n",
       "\n",
       "    .dataframe tbody tr th {\n",
       "        vertical-align: top;\n",
       "    }\n",
       "\n",
       "    .dataframe thead th {\n",
       "        text-align: right;\n",
       "    }\n",
       "</style>\n",
       "<table border=\"1\" class=\"dataframe\">\n",
       "  <thead>\n",
       "    <tr style=\"text-align: right;\">\n",
       "      <th></th>\n",
       "      <th>0</th>\n",
       "      <th>1</th>\n",
       "      <th>2</th>\n",
       "    </tr>\n",
       "  </thead>\n",
       "  <tbody>\n",
       "    <tr>\n",
       "      <th>0</th>\n",
       "      <td>Position</td>\n",
       "      <td>Country</td>\n",
       "      <td>Incidence\\n\\t\\t\\t(per 100,000)</td>\n",
       "    </tr>\n",
       "    <tr>\n",
       "      <th>1</th>\n",
       "      <td>1</td>\n",
       "      <td>Finland</td>\n",
       "      <td>57.6</td>\n",
       "    </tr>\n",
       "    <tr>\n",
       "      <th>2</th>\n",
       "      <td>2</td>\n",
       "      <td>Sweden</td>\n",
       "      <td>43.1</td>\n",
       "    </tr>\n",
       "    <tr>\n",
       "      <th>3</th>\n",
       "      <td>3</td>\n",
       "      <td>Saudi Arabia</td>\n",
       "      <td>31.4</td>\n",
       "    </tr>\n",
       "    <tr>\n",
       "      <th>4</th>\n",
       "      <td>4</td>\n",
       "      <td>Norway</td>\n",
       "      <td>27.9</td>\n",
       "    </tr>\n",
       "  </tbody>\n",
       "</table>\n",
       "</div>"
      ],
      "text/plain": [
       "          0             1                               2\n",
       "0  Position       Country  Incidence\\n\\t\\t\\t(per 100,000)\n",
       "1         1       Finland                            57.6\n",
       "2         2        Sweden                            43.1\n",
       "3         3  Saudi Arabia                            31.4\n",
       "4         4        Norway                            27.9"
      ]
     },
     "execution_count": 11,
     "metadata": {},
     "output_type": "execute_result"
    }
   ],
   "source": [
    "df = pd.DataFrame(header_row_text)\n",
    "\n",
    "df.head()"
   ]
  },
  {
   "cell_type": "markdown",
   "metadata": {},
   "source": [
    "To wrap up our job here, we'll simply set the first row in our column as the headers."
   ]
  },
  {
   "cell_type": "code",
   "execution_count": 12,
   "metadata": {},
   "outputs": [],
   "source": [
    "# Setting column names as first row:\n",
    "df.columns = df.iloc[0]\n",
    "\n",
    "# Dropping that first row from the dataframe:\n",
    "df = df.drop(df.index[0])\n",
    "\n",
    "# Resetting index. drop=True prevents the new index from also being saved as a column.\n",
    "df = df.reset_index(drop=True)"
   ]
  },
  {
   "cell_type": "code",
   "execution_count": 13,
   "metadata": {},
   "outputs": [
    {
     "data": {
      "text/html": [
       "<div>\n",
       "<style scoped>\n",
       "    .dataframe tbody tr th:only-of-type {\n",
       "        vertical-align: middle;\n",
       "    }\n",
       "\n",
       "    .dataframe tbody tr th {\n",
       "        vertical-align: top;\n",
       "    }\n",
       "\n",
       "    .dataframe thead th {\n",
       "        text-align: right;\n",
       "    }\n",
       "</style>\n",
       "<table border=\"1\" class=\"dataframe\">\n",
       "  <thead>\n",
       "    <tr style=\"text-align: right;\">\n",
       "      <th></th>\n",
       "      <th>Position</th>\n",
       "      <th>Country</th>\n",
       "      <th>Incidence\n",
       "\t\t\t(per 100,000)</th>\n",
       "    </tr>\n",
       "  </thead>\n",
       "  <tbody>\n",
       "    <tr>\n",
       "      <th>0</th>\n",
       "      <td>1</td>\n",
       "      <td>Finland</td>\n",
       "      <td>57.6</td>\n",
       "    </tr>\n",
       "    <tr>\n",
       "      <th>1</th>\n",
       "      <td>2</td>\n",
       "      <td>Sweden</td>\n",
       "      <td>43.1</td>\n",
       "    </tr>\n",
       "    <tr>\n",
       "      <th>2</th>\n",
       "      <td>3</td>\n",
       "      <td>Saudi Arabia</td>\n",
       "      <td>31.4</td>\n",
       "    </tr>\n",
       "  </tbody>\n",
       "</table>\n",
       "</div>"
      ],
      "text/plain": [
       "0 Position       Country Incidence\\n\\t\\t\\t(per 100,000)\n",
       "0        1       Finland                           57.6\n",
       "1        2        Sweden                           43.1\n",
       "2        3  Saudi Arabia                           31.4"
      ]
     },
     "execution_count": 13,
     "metadata": {},
     "output_type": "execute_result"
    }
   ],
   "source": [
    "df.head(3)"
   ]
  },
  {
   "cell_type": "code",
   "execution_count": 14,
   "metadata": {},
   "outputs": [
    {
     "data": {
      "text/html": [
       "<div>\n",
       "<style scoped>\n",
       "    .dataframe tbody tr th:only-of-type {\n",
       "        vertical-align: middle;\n",
       "    }\n",
       "\n",
       "    .dataframe tbody tr th {\n",
       "        vertical-align: top;\n",
       "    }\n",
       "\n",
       "    .dataframe thead th {\n",
       "        text-align: right;\n",
       "    }\n",
       "</style>\n",
       "<table border=\"1\" class=\"dataframe\">\n",
       "  <thead>\n",
       "    <tr style=\"text-align: right;\">\n",
       "      <th></th>\n",
       "      <th>Position</th>\n",
       "      <th>Country</th>\n",
       "      <th>Incidence\n",
       "\t\t\t(per 100,000)</th>\n",
       "    </tr>\n",
       "  </thead>\n",
       "  <tbody>\n",
       "    <tr>\n",
       "      <th>86</th>\n",
       "      <td>86</td>\n",
       "      <td>Thailand</td>\n",
       "      <td>0.3</td>\n",
       "    </tr>\n",
       "    <tr>\n",
       "      <th>87</th>\n",
       "      <td>88</td>\n",
       "      <td>Papua New Guinea</td>\n",
       "      <td>0.1</td>\n",
       "    </tr>\n",
       "    <tr>\n",
       "      <th>88</th>\n",
       "      <td>88</td>\n",
       "      <td>Venezuala</td>\n",
       "      <td>0.1</td>\n",
       "    </tr>\n",
       "  </tbody>\n",
       "</table>\n",
       "</div>"
      ],
      "text/plain": [
       "0  Position           Country Incidence\\n\\t\\t\\t(per 100,000)\n",
       "86       86          Thailand                            0.3\n",
       "87       88  Papua New Guinea                            0.1\n",
       "88       88         Venezuala                            0.1"
      ]
     },
     "execution_count": 14,
     "metadata": {},
     "output_type": "execute_result"
    }
   ],
   "source": [
    "df.tail(3)"
   ]
  },
  {
   "cell_type": "markdown",
   "metadata": {},
   "source": [
    "## End\n",
    "\n",
    "That's it for the web-scraping. Optionally, we could have also modified the dataframe above so that the `Position` column is set to be the index:"
   ]
  },
  {
   "cell_type": "code",
   "execution_count": 15,
   "metadata": {},
   "outputs": [
    {
     "data": {
      "text/html": [
       "<div>\n",
       "<style scoped>\n",
       "    .dataframe tbody tr th:only-of-type {\n",
       "        vertical-align: middle;\n",
       "    }\n",
       "\n",
       "    .dataframe tbody tr th {\n",
       "        vertical-align: top;\n",
       "    }\n",
       "\n",
       "    .dataframe thead th {\n",
       "        text-align: right;\n",
       "    }\n",
       "</style>\n",
       "<table border=\"1\" class=\"dataframe\">\n",
       "  <thead>\n",
       "    <tr style=\"text-align: right;\">\n",
       "      <th></th>\n",
       "      <th>Country</th>\n",
       "      <th>Incidence\n",
       "\t\t\t(per 100,000)</th>\n",
       "    </tr>\n",
       "    <tr>\n",
       "      <th>Position</th>\n",
       "      <th></th>\n",
       "      <th></th>\n",
       "    </tr>\n",
       "  </thead>\n",
       "  <tbody>\n",
       "    <tr>\n",
       "      <th>1</th>\n",
       "      <td>Finland</td>\n",
       "      <td>57.6</td>\n",
       "    </tr>\n",
       "    <tr>\n",
       "      <th>2</th>\n",
       "      <td>Sweden</td>\n",
       "      <td>43.1</td>\n",
       "    </tr>\n",
       "    <tr>\n",
       "      <th>3</th>\n",
       "      <td>Saudi Arabia</td>\n",
       "      <td>31.4</td>\n",
       "    </tr>\n",
       "  </tbody>\n",
       "</table>\n",
       "</div>"
      ],
      "text/plain": [
       "0              Country Incidence\\n\\t\\t\\t(per 100,000)\n",
       "Position                                             \n",
       "1              Finland                           57.6\n",
       "2               Sweden                           43.1\n",
       "3         Saudi Arabia                           31.4"
      ]
     },
     "execution_count": 15,
     "metadata": {},
     "output_type": "execute_result"
    }
   ],
   "source": [
    "df = df.set_index('Position')\n",
    "\n",
    "df.head(3)"
   ]
  }
 ],
 "metadata": {
  "kernelspec": {
   "display_name": "Python 3",
   "language": "python",
   "name": "python3"
  },
  "language_info": {
   "codemirror_mode": {
    "name": "ipython",
    "version": 3
   },
   "file_extension": ".py",
   "mimetype": "text/x-python",
   "name": "python",
   "nbconvert_exporter": "python",
   "pygments_lexer": "ipython3",
   "version": "3.7.3"
  }
 },
 "nbformat": 4,
 "nbformat_minor": 2
}
